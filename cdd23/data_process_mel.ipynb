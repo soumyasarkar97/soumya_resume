{
 "cells": [
  {
   "cell_type": "code",
   "execution_count": 1,
   "metadata": {
    "colab": {
     "base_uri": "https://localhost:8080/"
    },
    "executionInfo": {
     "elapsed": 56887,
     "status": "ok",
     "timestamp": 1680723635820,
     "user": {
      "displayName": "Soumya Sarkar",
      "userId": "15716502871047121144"
     },
     "user_tz": -330
    },
    "id": "xfAj-r737Wgk",
    "outputId": "ac4f57ca-0515-441d-a916-af9be2b82e62"
   },
   "outputs": [
    {
     "name": "stdout",
     "output_type": "stream",
     "text": [
      "Mounted at /content/drive\n"
     ]
    }
   ],
   "source": [
    "# from google.colab import drive\n",
    "# drive.mount('/content/drive')"
   ]
  },
  {
   "cell_type": "code",
   "execution_count": 2,
   "metadata": {
    "colab": {
     "base_uri": "https://localhost:8080/"
    },
    "executionInfo": {
     "elapsed": 38,
     "status": "ok",
     "timestamp": 1680723635821,
     "user": {
      "displayName": "Soumya Sarkar",
      "userId": "15716502871047121144"
     },
     "user_tz": -330
    },
    "id": "vYKaRRe07i32",
    "outputId": "54a6e011-a11c-4cf2-cec7-92dd916ad0cc"
   },
   "outputs": [
    {
     "name": "stdout",
     "output_type": "stream",
     "text": [
      "/content/drive/MyDrive/Courses/CS546 - ACPS\n"
     ]
    }
   ],
   "source": [
    "# %cd /content/drive/MyDrive/Courses/CS546 - ACPS"
   ]
  },
  {
   "cell_type": "code",
   "execution_count": 1,
   "metadata": {
    "colab": {
     "base_uri": "https://localhost:8080/"
    },
    "executionInfo": {
     "elapsed": 11,
     "status": "ok",
     "timestamp": 1680724035345,
     "user": {
      "displayName": "Soumya Sarkar",
      "userId": "15716502871047121144"
     },
     "user_tz": -330
    },
    "id": "ppGDPjJG7okp",
    "outputId": "7bb9c1dc-f643-44af-9484-0f4f1b7ffaaf"
   },
   "outputs": [
    {
     "name": "stdout",
     "output_type": "stream",
     "text": [
      "\u001b[0m\u001b[01;32m2022AIM1002_KumarMangalam_ProjectProposal.pdf\u001b[0m*  \u001b[01;32mdata_processing.ipynb\u001b[0m*\r\n",
      "\u001b[01;32mACPS_Diagram1_v1.5.jpg\u001b[0m*                         \u001b[01;32mmodel.ipynb\u001b[0m*\r\n",
      "\u001b[01;32mUsed_AudioAndLabels.pkl\u001b[0m*                        \u001b[34;42moriginal_code\u001b[0m/\r\n",
      "\u001b[34;42mchicken_sound\u001b[0m/                                  \u001b[34;42mpapers\u001b[0m/\r\n",
      "\u001b[34;42mcode\u001b[0m/                                           \u001b[01;32mui_chicken.zip\u001b[0m*\r\n",
      "\u001b[34;42mdata\u001b[0m/\r\n"
     ]
    }
   ],
   "source": [
    "ls"
   ]
  },
  {
   "cell_type": "code",
   "execution_count": 3,
   "metadata": {
    "executionInfo": {
     "elapsed": 426,
     "status": "ok",
     "timestamp": 1680725186241,
     "user": {
      "displayName": "Soumya Sarkar",
      "userId": "15716502871047121144"
     },
     "user_tz": -330
    },
    "id": "qLgqvOhk9g1n"
   },
   "outputs": [],
   "source": [
    "import pickle\n",
    "# import torch\n",
    "import pandas as pd\n",
    "import numpy as np\n",
    "import matplotlib.pyplot as plt\n",
    "import seaborn as sns\n",
    "\n",
    "import librosa\n",
    "import librosa.display\n",
    "from itertools import cycle\n",
    "\n",
    "sns.set_theme(style=\"white\", palette=None)\n",
    "color_pal = plt.rcParams[\"axes.prop_cycle\"].by_key()[\"color\"]\n",
    "color_cycle = cycle(plt.rcParams[\"axes.prop_cycle\"].by_key()[\"color\"])"
   ]
  },
  {
   "cell_type": "code",
   "execution_count": 4,
   "metadata": {
    "executionInfo": {
     "elapsed": 5582,
     "status": "ok",
     "timestamp": 1680724185921,
     "user": {
      "displayName": "Soumya Sarkar",
      "userId": "15716502871047121144"
     },
     "user_tz": -330
    },
    "id": "mxFGLMyD9zye"
   },
   "outputs": [],
   "source": [
    "pkl_file = \"./Used_AudioAndLabels.pkl\"\n",
    "file = open(pkl_file, 'rb')\n",
    "X = pickle.load(file)\n",
    "file.close()"
   ]
  },
  {
   "cell_type": "code",
   "execution_count": 5,
   "metadata": {
    "colab": {
     "base_uri": "https://localhost:8080/"
    },
    "executionInfo": {
     "elapsed": 4,
     "status": "ok",
     "timestamp": 1680724192372,
     "user": {
      "displayName": "Soumya Sarkar",
      "userId": "15716502871047121144"
     },
     "user_tz": -330
    },
    "id": "2ikEaktQ9WBw",
    "outputId": "379422d7-75ac-477e-cdee-f8d4fb29e466"
   },
   "outputs": [
    {
     "data": {
      "text/plain": [
       "{'x': array([[-0.06526405, -0.08445603, -0.09233922, ..., -0.07962914,\n",
       "          0.00746844,  0.07679787],\n",
       "        [-0.03785479, -0.00729598,  0.00987764, ..., -0.00996349,\n",
       "          0.0222148 ,  0.0793744 ],\n",
       "        [ 0.00496464,  0.0245759 ,  0.00279629, ...,  0.1756366 ,\n",
       "          0.10669881,  0.04371437],\n",
       "        ...,\n",
       "        [ 0.02399278,  0.02767566,  0.01971128, ...,  0.03701567,\n",
       "         -0.01240305, -0.07965598],\n",
       "        [ 0.09023224,  0.01203849, -0.11292073, ..., -0.04076136,\n",
       "         -0.02925378, -0.0241123 ],\n",
       "        [-0.11001645, -0.0483137 ,  0.0562449 , ..., -0.05911687,\n",
       "          0.05305997,  0.16625038]], dtype=float32),\n",
       " 'y': array(['distressCall', 'naturalBarnSounds', 'distressCall', ...,\n",
       "        'naturalBarnSounds', 'distressCall', 'distressCall'], dtype='<U17')}"
      ]
     },
     "execution_count": 5,
     "metadata": {},
     "output_type": "execute_result"
    }
   ],
   "source": [
    "X"
   ]
  },
  {
   "cell_type": "code",
   "execution_count": 6,
   "metadata": {
    "colab": {
     "base_uri": "https://localhost:8080/"
    },
    "executionInfo": {
     "elapsed": 3,
     "status": "ok",
     "timestamp": 1680724248228,
     "user": {
      "displayName": "Soumya Sarkar",
      "userId": "15716502871047121144"
     },
     "user_tz": -330
    },
    "id": "6MdmCQvA-Jos",
    "outputId": "359a9d3b-14a6-496c-f236-0f97a50fee89"
   },
   "outputs": [
    {
     "data": {
      "text/plain": [
       "((5336, 22050), (5336,))"
      ]
     },
     "execution_count": 6,
     "metadata": {},
     "output_type": "execute_result"
    }
   ],
   "source": [
    "X['x'].shape, X['y'].shape"
   ]
  },
  {
   "cell_type": "code",
   "execution_count": 7,
   "metadata": {
    "colab": {
     "base_uri": "https://localhost:8080/"
    },
    "executionInfo": {
     "elapsed": 2,
     "status": "ok",
     "timestamp": 1680724702264,
     "user": {
      "displayName": "Soumya Sarkar",
      "userId": "15716502871047121144"
     },
     "user_tz": -330
    },
    "id": "FQs_hpbE_unD",
    "outputId": "ea7c1015-b99f-4374-e76f-38c356fad4b1"
   },
   "outputs": [
    {
     "data": {
      "text/plain": [
       "array([-0.06526405, -0.08445603, -0.09233922, ..., -0.07962914,\n",
       "        0.00746844,  0.07679787], dtype=float32)"
      ]
     },
     "execution_count": 7,
     "metadata": {},
     "output_type": "execute_result"
    }
   ],
   "source": [
    "X['x'][0]"
   ]
  },
  {
   "cell_type": "code",
   "execution_count": 8,
   "metadata": {
    "colab": {
     "base_uri": "https://localhost:8080/",
     "height": 318
    },
    "executionInfo": {
     "elapsed": 946,
     "status": "ok",
     "timestamp": 1680725192792,
     "user": {
      "displayName": "Soumya Sarkar",
      "userId": "15716502871047121144"
     },
     "user_tz": -330
    },
    "id": "hWGERgkIBnIU",
    "outputId": "9d3538d5-68e9-4874-d085-46ae36e2f7bb"
   },
   "outputs": [
    {
     "data": {
      "image/png": "[encoded data removed]",
      "text/plain": [
       "<Figure size 800x300 with 1 Axes>"
      ]
     },
     "metadata": {},
     "output_type": "display_data"
    }
   ],
   "source": [
    "y_trimmed, _ = librosa.effects.trim(X['x'][0], top_db=20)\n",
    "pd.Series(y_trimmed).plot(figsize=(8, 3),\n",
    "                  lw=1,\n",
    "                  title='Chicken Distress audio after removing noise',\n",
    "                 color=color_pal[1])\n",
    "plt.show()"
   ]
  },
  {
   "cell_type": "code",
   "execution_count": 10,
   "metadata": {
    "executionInfo": {
     "elapsed": 394,
     "status": "ok",
     "timestamp": 1680727635072,
     "user": {
      "displayName": "Soumya Sarkar",
      "userId": "15716502871047121144"
     },
     "user_tz": -330
    },
    "id": "EVrzTdB9JuOc"
   },
   "outputs": [],
   "source": [
    "df_x = pd.DataFrame(X['x'])"
   ]
  },
  {
   "cell_type": "code",
   "execution_count": 11,
   "metadata": {
    "id": "JF4uEl5uLiW3"
   },
   "outputs": [],
   "source": [
    "df_x['new'] = df_x.apply(lambda r: tuple(r), axis=1).apply(np.array)"
   ]
  },
  {
   "cell_type": "code",
   "execution_count": 14,
   "metadata": {
    "executionInfo": {
     "elapsed": 725,
     "status": "ok",
     "timestamp": 1680728933785,
     "user": {
      "displayName": "Soumya Sarkar",
      "userId": "15716502871047121144"
     },
     "user_tz": -330
    },
    "id": "ea7y65FnPhd7"
   },
   "outputs": [],
   "source": [
    "index = np.arange(0, X['x'].shape[0], 1, dtype=int)"
   ]
  },
  {
   "cell_type": "code",
   "execution_count": 15,
   "metadata": {
    "colab": {
     "base_uri": "https://localhost:8080/"
    },
    "executionInfo": {
     "elapsed": 707,
     "status": "ok",
     "timestamp": 1680729186869,
     "user": {
      "displayName": "Soumya Sarkar",
      "userId": "15716502871047121144"
     },
     "user_tz": -330
    },
    "id": "V361O9sUQRIH",
    "outputId": "aaf8f1b2-ee0f-421c-df60-adbeb3d42847"
   },
   "outputs": [],
   "source": [
    "df = pd.DataFrame({'index':index, 'x':df_x['new'], 'y':X['y']})"
   ]
  },
  {
   "cell_type": "code",
   "execution_count": 16,
   "metadata": {
    "colab": {
     "background_save": true,
     "output_embedded_package_id": "1sUNP4HUmTQ6TXCEsn5NLkyRq-KiWhWKZ"
    },
    "id": "_WE7z1tnRFDE",
    "outputId": "03455a6d-27c3-4b98-abe4-088783441011"
   },
   "outputs": [
    {
     "data": {
      "text/html": [
       "<div>\n",
       "<style scoped>\n",
       "    .dataframe tbody tr th:only-of-type {\n",
       "        vertical-align: middle;\n",
       "    }\n",
       "\n",
       "    .dataframe tbody tr th {\n",
       "        vertical-align: top;\n",
       "    }\n",
       "\n",
       "    .dataframe thead th {\n",
       "        text-align: right;\n",
       "    }\n",
       "</style>\n",
       "<table border=\"1\" class=\"dataframe\">\n",
       "  <thead>\n",
       "    <tr style=\"text-align: right;\">\n",
       "      <th></th>\n",
       "      <th>index</th>\n",
       "      <th>x</th>\n",
       "      <th>y</th>\n",
       "    </tr>\n",
       "  </thead>\n",
       "  <tbody>\n",
       "    <tr>\n",
       "      <th>0</th>\n",
       "      <td>0</td>\n",
       "      <td>[-0.06526404619216919, -0.08445602655410767, -...</td>\n",
       "      <td>distressCall</td>\n",
       "    </tr>\n",
       "    <tr>\n",
       "      <th>1</th>\n",
       "      <td>1</td>\n",
       "      <td>[-0.037854794412851334, -0.007295982912182808,...</td>\n",
       "      <td>naturalBarnSounds</td>\n",
       "    </tr>\n",
       "    <tr>\n",
       "      <th>2</th>\n",
       "      <td>2</td>\n",
       "      <td>[0.004964637104421854, 0.02457590214908123, 0....</td>\n",
       "      <td>distressCall</td>\n",
       "    </tr>\n",
       "    <tr>\n",
       "      <th>3</th>\n",
       "      <td>3</td>\n",
       "      <td>[-0.0470498688519001, -0.03123774752020836, 0....</td>\n",
       "      <td>naturalBarnSounds</td>\n",
       "    </tr>\n",
       "    <tr>\n",
       "      <th>4</th>\n",
       "      <td>4</td>\n",
       "      <td>[0.054686564952135086, 0.0898560956120491, 0.0...</td>\n",
       "      <td>naturalBarnSounds</td>\n",
       "    </tr>\n",
       "  </tbody>\n",
       "</table>\n",
       "</div>"
      ],
      "text/plain": [
       "   index                                                  x                  y\n",
       "0      0  [-0.06526404619216919, -0.08445602655410767, -...       distressCall\n",
       "1      1  [-0.037854794412851334, -0.007295982912182808,...  naturalBarnSounds\n",
       "2      2  [0.004964637104421854, 0.02457590214908123, 0....       distressCall\n",
       "3      3  [-0.0470498688519001, -0.03123774752020836, 0....  naturalBarnSounds\n",
       "4      4  [0.054686564952135086, 0.0898560956120491, 0.0...  naturalBarnSounds"
      ]
     },
     "execution_count": 16,
     "metadata": {},
     "output_type": "execute_result"
    }
   ],
   "source": [
    "df.head()"
   ]
  },
  {
   "cell_type": "code",
   "execution_count": 17,
   "metadata": {
    "executionInfo": {
     "elapsed": 682,
     "status": "ok",
     "timestamp": 1680728461970,
     "user": {
      "displayName": "Soumya Sarkar",
      "userId": "15716502871047121144"
     },
     "user_tz": -330
    },
    "id": "GfbgoPat9-f0"
   },
   "outputs": [],
   "source": [
    "def save_img(row):\n",
    "    S = librosa.feature.melspectrogram(y=row['x'],\n",
    "                                   sr=22050,\n",
    "                                   n_mels=128 * 2,)\n",
    "    S_db_mel = librosa.amplitude_to_db(S, ref=np.max)\n",
    "    fig, ax = plt.subplots(figsize=(4, 1.75), frameon=False)\n",
    "    # Plot the mel spectogram\n",
    "    img = librosa.display.specshow(S_db_mel,\n",
    "                                x_axis='time',\n",
    "                                y_axis='log',\n",
    "                                ax=ax)\n",
    "    ax.set_axis_off()\n",
    "    if row['y']=='distressCall':\n",
    "        file_name = \"data/distressCall/\"+str(row['index'])+\".jpg\"\n",
    "    else:\n",
    "        file_name = \"data/naturalBarnSounds/\"+str(row['index'])+\".jpg\"\n",
    "\n",
    "    fig.savefig(file_name, bbox_inches='tight', transparent=True, pad_inches=0)\n",
    "    plt.close(fig)"
   ]
  },
  {
   "cell_type": "code",
   "execution_count": 19,
   "metadata": {
    "colab": {
     "background_save": true,
     "base_uri": "https://localhost:8080/",
     "height": 1000,
     "output_embedded_package_id": "19OtKGHJMB9pJOcG4wlGYJQHGuB7KQ5e-"
    },
    "executionInfo": {
     "elapsed": 317750,
     "status": "error",
     "timestamp": 1680728782132,
     "user": {
      "displayName": "Soumya Sarkar",
      "userId": "15716502871047121144"
     },
     "user_tz": -330
    },
    "id": "e1DskpNY-hun",
    "outputId": "b86f4c50-701e-4b54-bd94-e8906a934363"
   },
   "outputs": [
    {
     "data": {
      "text/plain": [
       "0       None\n",
       "1       None\n",
       "2       None\n",
       "3       None\n",
       "4       None\n",
       "        ... \n",
       "5331    None\n",
       "5332    None\n",
       "5333    None\n",
       "5334    None\n",
       "5335    None\n",
       "Length: 5336, dtype: object"
      ]
     },
     "execution_count": 19,
     "metadata": {},
     "output_type": "execute_result"
    }
   ],
   "source": [
    "df.apply(save_img, axis=1)"
   ]
  },
  {
   "cell_type": "code",
   "execution_count": null,
   "metadata": {
    "id": "g_54hVWl-nXX"
   },
   "outputs": [],
   "source": []
  },
  {
   "cell_type": "code",
   "execution_count": null,
   "metadata": {},
   "outputs": [],
   "source": []
  }
 ],
 "metadata": {
  "colab": {
   "authorship_tag": "ABX9TyPoy08nCqfUBeVvy6jhh0yR",
   "name": "",
   "version": ""
  },
  "kernelspec": {
   "display_name": "Python 3 (ipykernel)",
   "language": "python",
   "name": "python3"
  },
  "language_info": {
   "codemirror_mode": {
    "name": "ipython",
    "version": 3
   },
   "file_extension": ".py",
   "mimetype": "text/x-python",
   "name": "python",
   "nbconvert_exporter": "python",
   "pygments_lexer": "ipython3",
   "version": "3.9.13"
  }
 },
 "nbformat": 4,
 "nbformat_minor": 1
}
